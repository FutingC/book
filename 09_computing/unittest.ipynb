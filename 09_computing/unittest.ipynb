{
 "cells": [
  {
   "cell_type": "markdown",
   "metadata": {},
   "source": [
    "# Unit Testing\n",
    "\n",
    "[Unit testing](https://en.wikipedia.org/wiki/Unit_testing) is a method of testing your code by writing tests for individual functions.\n",
    "\n",
    "Let's say you write a package which provides a function.  You want to convince someone (espeically yourself) that the function works as intended.  An excellent way to do this is to write unit tests, which (assuming they pass) demonstrate that your function does what is supposed to do, at least for the situations you test.\n",
    "\n",
    "## unittest package\n",
    "\n",
    "[unittest](https://docs.python.org/3.8/library/unittest.html) is a built-in package which provides unit testing capabilities.\n",
    "\n",
    "Basically, you define classes that inherit from `unittest.TestCase`.  Then you can add methods which test different functionality."
   ]
  },
  {
   "cell_type": "code",
   "execution_count": 1,
   "metadata": {},
   "outputs": [],
   "source": [
    "import unittest\n",
    "\n",
    "class TestStringMethods(unittest.TestCase):\n",
    "\n",
    "    def test_upper(self):\n",
    "        self.assertEqual('foo'.upper(), 'FOO')\n",
    "\n",
    "    def test_isupper(self):\n",
    "        self.assertTrue('FOO'.isupper())\n",
    "        self.assertFalse('Foo'.isupper())\n",
    "\n",
    "    def test_split(self):\n",
    "        s = 'hello world'\n",
    "        self.assertEqual(s.split(), ['hello', 'world'])\n",
    "        # check that s.split fails when the separator is not a string\n",
    "        with self.assertRaises(TypeError):\n",
    "            s.split(2)"
   ]
  },
  {
   "cell_type": "markdown",
   "metadata": {},
   "source": [
    "We can then run our tests using `unittest.main()` (the arguments below are passed in so we can run in Jupyter)."
   ]
  },
  {
   "cell_type": "code",
   "execution_count": 3,
   "metadata": {},
   "outputs": [
    {
     "name": "stderr",
     "output_type": "stream",
     "text": [
      "...\n",
      "----------------------------------------------------------------------\n",
      "Ran 3 tests in 0.004s\n",
      "\n",
      "OK\n"
     ]
    },
    {
     "data": {
      "text/plain": [
       "<unittest.main.TestProgram at 0x7f890c383820>"
      ]
     },
     "execution_count": 3,
     "metadata": {},
     "output_type": "execute_result"
    }
   ],
   "source": [
    "unittest.main(argv=['first-arg-is-ignored'], exit=False)"
   ]
  },
  {
   "cell_type": "markdown",
   "metadata": {},
   "source": [
    "## Test-Driven Development\n",
    "\n",
    "You don't need to wait to implement everything in order to write your tests.  Writing your tests first is called **test-driven development**.  One advantage of test-driven development is that you'll know when you have succeeded in your implementation, since all your tests will pass.\n",
    "\n",
    "Let's consider a suite of tests that would test a `power_method` function:"
   ]
  },
  {
   "cell_type": "code",
   "execution_count": 6,
   "metadata": {},
   "outputs": [
    {
     "data": {
      "text/plain": [
       "array([[1., 1., 1., 1., 1.],\n",
       "       [1., 1., 1., 1., 1.],\n",
       "       [1., 1., 1., 1., 1.],\n",
       "       [1., 1., 1., 1., 1.],\n",
       "       [1., 1., 1., 1., 1.]])"
      ]
     },
     "execution_count": 6,
     "metadata": {},
     "output_type": "execute_result"
    }
   ],
   "source": [
    "import numpy as np\n",
    "np.ones((5,5))"
   ]
  },
  {
   "cell_type": "code",
   "execution_count": 7,
   "metadata": {},
   "outputs": [],
   "source": [
    "class TestPowerMethod(unittest.TestCase):\n",
    "    \n",
    "    def test_eigenpair(self):\n",
    "        n = 5\n",
    "        A = np.random.randn((n,n))\n",
    "        A = A + A.T # make symmetric\n",
    "        lam, v = powermethod(A)\n",
    "        v2 = A @ v\n",
    "        self.assertAlmostEqual(v2, lam * v)\n",
    "    \n",
    "    def test_norm1(self):\n",
    "        n = 5\n",
    "        A = np.random.randn((n,n))\n",
    "        A = A + A.T # make symmetric\n",
    "        lam, v = powermethod(A)\n",
    "        self.assertAlmostEqual(np.linalg.norm(v), 1)\n",
    "    \n",
    "    def test_rank1(self):\n",
    "        n = 5\n",
    "        A = np.ones((n,n))\n",
    "        lam, v = powermethod(A)\n",
    "        # check that v is close to constant function.\n",
    "        self.assertAlmostEqual(np.linalg.norm(v - np.ones(n)/np.sqrt(n)), 0)\n",
    "        "
   ]
  },
  {
   "cell_type": "markdown",
   "metadata": {},
   "source": [
    "### Exercise\n",
    "\n",
    "Implement a function `powermethod` which satisfies the above tests (using the Power method algorithm, of course)"
   ]
  },
  {
   "cell_type": "code",
   "execution_count": null,
   "metadata": {},
   "outputs": [],
   "source": [
    "## Your code here\n"
   ]
  }
 ],
 "metadata": {
  "kernelspec": {
   "display_name": "Python (pycourse)",
   "language": "python",
   "name": "pycourse"
  },
  "language_info": {
   "codemirror_mode": {
    "name": "ipython",
    "version": 3
   },
   "file_extension": ".py",
   "mimetype": "text/x-python",
   "name": "python",
   "nbconvert_exporter": "python",
   "pygments_lexer": "ipython3",
   "version": "3.8.3"
  }
 },
 "nbformat": 4,
 "nbformat_minor": 4
}
