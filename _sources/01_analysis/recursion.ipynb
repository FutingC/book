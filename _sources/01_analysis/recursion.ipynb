{
 "cells": [
  {
   "cell_type": "markdown",
   "metadata": {},
   "source": [
    "# Recursion\n",
    "\n",
    "## Recursive Functions\n",
    "\n",
    "**Definition 1** A function is recursive if it is recursive.\n",
    "\n",
    "**Definition 2** A function is recursive if it refers to itself.\n",
    "\n",
    "It is probably easier to see an example.  The [Fibonacci numbers](https://en.wikipedia.org/wiki/Fibonacci_number) are one such example. We have $F_0 = 0$, $F_1 = 1$, and $F_n = F_{n-1} + F_{n-2}$ for $n \\ge 2$.  The definition was *recursive* because the expression for $F_n$ is stated in terms of other Fibonnaci numbers.  We can expand the definition:\n",
    "\\begin{align}\n",
    "F_n &= F_{n-1} + F_{n-2}\\\\\n",
    "&= (F_{n-2} + F_{n-3}) + (F_{n-3} + F_{n-4})\\\\\n",
    "&= \\dots\n",
    "\\end{align}\n",
    "\n",
    "If we want to write a function to compute the $n$th fibonacci number, we might write"
   ]
  },
  {
   "cell_type": "code",
   "execution_count": 1,
   "metadata": {},
   "outputs": [
    {
     "name": "stdout",
     "output_type": "stream",
     "text": [
      "F_0 = 0\n",
      "F_1 = 1\n",
      "F_2 = 1\n",
      "F_3 = 2\n",
      "F_4 = 3\n",
      "F_5 = 5\n",
      "F_6 = 8\n",
      "F_7 = 13\n",
      "F_8 = 21\n",
      "F_9 = 34\n"
     ]
    }
   ],
   "source": [
    "def fibonacci(n):\n",
    "    \"\"\"\n",
    "    compute the nth fibonacci number recursively\n",
    "    \"\"\"\n",
    "    if n == 0:\n",
    "        return 0\n",
    "    elif n == 1:\n",
    "        return 1\n",
    "    else:\n",
    "        return fibonacci(n-1) + fibonacci(n-2)\n",
    "    \n",
    "for n in range(10):\n",
    "    print( \"F_{} = {}\".format(n, fibonacci(n)) )"
   ]
  },
  {
   "cell_type": "markdown",
   "metadata": {},
   "source": [
    "## Divide and Conquer\n",
    "\n",
    "A common situation in which recursion is used is in *Divide and Conquer* algorithms.\n",
    "\n",
    "### Mergesort \n",
    "\n",
    "[Mergesort](https://en.wikipedia.org/wiki/Merge_sort) is an example of a sorting algorithm.  The input is a list `a`, and the output is a list `b` which has the same elements as `a`, but appearing in sorted order.\n",
    "\n",
    "Python has the `sorted` function built-in to sort iterables like lists:"
   ]
  },
  {
   "cell_type": "code",
   "execution_count": 2,
   "metadata": {},
   "outputs": [
    {
     "data": {
      "text/plain": [
       "[1, 2, 3]"
      ]
     },
     "execution_count": 2,
     "metadata": {},
     "output_type": "execute_result"
    }
   ],
   "source": [
    "a = [2,3,1]\n",
    "sorted(a)"
   ]
  },
  {
   "cell_type": "markdown",
   "metadata": {},
   "source": [
    "There are a variety of sorting algorithms which use different techniques.\n",
    "\n",
    "Merge sort uses the observation that if two arrays `a1` and `a2` are already sorted, that it is easy to merge the two arrays into a single sorted array in a single loop"
   ]
  },
  {
   "cell_type": "code",
   "execution_count": 3,
   "metadata": {},
   "outputs": [
    {
     "data": {
      "text/plain": [
       "[0, 1, 2, 3, 4, 5]"
      ]
     },
     "execution_count": 3,
     "metadata": {},
     "output_type": "execute_result"
    }
   ],
   "source": [
    "def merge(a1, a2):\n",
    "    \"\"\"\n",
    "    merge sorted lists a1 and a2 into a sorted list b\n",
    "    \"\"\"\n",
    "    b = []\n",
    "    i1 = 0\n",
    "    i2 = 0\n",
    "    # insert the smallest element into b\n",
    "    while (i1 < len(a1) and i2 < len(a2)):\n",
    "        if a1[i1] < a2[i2]:\n",
    "            b.append(a1[i1])\n",
    "            i1 = i1 + 1\n",
    "        else:\n",
    "            b.append(a2[i2])\n",
    "            i2 = i2 + 1\n",
    "            \n",
    "    # at most one of the following while-loops will do anything\n",
    "    while (i1 < len(a1)):\n",
    "        b.append(a1[i1])\n",
    "        i1 = i1 + 1\n",
    "        \n",
    "    while (i2 < len(a2)):\n",
    "        b.append(a2[i2])\n",
    "        i2 = i2 + 1\n",
    "        \n",
    "    return b\n",
    "\n",
    "merge([1,3,4], [0,2,5])"
   ]
  },
  {
   "cell_type": "markdown",
   "metadata": {},
   "source": [
    "The divide-and-conquer strategy is to start with an input list `a`, sort the left and right halves, and then merge the two halves to sort `a`.  We can employ recursion by using merge sort to sort each half. By definition, an list with 1 or no elements is already sorted."
   ]
  },
  {
   "cell_type": "code",
   "execution_count": 4,
   "metadata": {},
   "outputs": [
    {
     "data": {
      "text/plain": [
       "[0, 1, 2, 3, 4, 5, 6]"
      ]
     },
     "execution_count": 4,
     "metadata": {},
     "output_type": "execute_result"
    }
   ],
   "source": [
    "def mergesort(a):\n",
    "    \"\"\"\n",
    "    sort a using merge-sort algorithm\n",
    "    \"\"\"\n",
    "    # if a has 1 or zero elements, it is already sorted\n",
    "    if len(a) < 2:\n",
    "        return a\n",
    "    k = len(a) // 2\n",
    "    L = a[:k] # left half\n",
    "    R = a[k:] # right half\n",
    "    \n",
    "    # recurse to sort L and R\n",
    "    L = mergesort(L)\n",
    "    R = mergesort(R)\n",
    "    \n",
    "    # now merge L and R\n",
    "    a = merge(L, R)\n",
    "    return a\n",
    "    \n",
    "    \n",
    "mergesort([6,5,4,3,2,1,0])"
   ]
  },
  {
   "cell_type": "markdown",
   "metadata": {},
   "source": [
    "### Quick Sort\n",
    "\n",
    "[Quicksort](https://en.wikipedia.org/wiki/Quicksort) was named by SIAM editors as one of the [top-10 algorithms of the 20th centry](https://archive.siam.org/pdf/news/637.pdf).  Like mergesort, it also uses a divide and conquer strategy.\n",
    "\n",
    "Quicksort works by partitioning a list into two halves divided by a *pivot*.  All elements less than the pivot are moved to the first part of the list, and all elements greater than the pivot are moved to the second part of the list."
   ]
  },
  {
   "cell_type": "code",
   "execution_count": 5,
   "metadata": {},
   "outputs": [
    {
     "name": "stdout",
     "output_type": "stream",
     "text": [
      "[1, 2, 3]\n",
      "[3, 2, 1]\n"
     ]
    }
   ],
   "source": [
    "def swap(a, i, j):\n",
    "    \"\"\"\n",
    "    swap elements i and j in-place in list a\n",
    "    \"\"\"\n",
    "    a[i], a[j] = a[j], a[i]\n",
    "\n",
    "a = [1,2,3]\n",
    "print(a)\n",
    "swap(a, 0, 2)\n",
    "print(a)"
   ]
  },
  {
   "cell_type": "code",
   "execution_count": 6,
   "metadata": {},
   "outputs": [],
   "source": [
    "from numpy.random import randint"
   ]
  },
  {
   "cell_type": "code",
   "execution_count": 7,
   "metadata": {},
   "outputs": [
    {
     "data": {
      "text/plain": [
       "[0, 1, 2, 3, 4, 5, 6]"
      ]
     },
     "execution_count": 7,
     "metadata": {},
     "output_type": "execute_result"
    }
   ],
   "source": [
    "def partition(a, lo, hi):\n",
    "    \"\"\"\n",
    "    choose a pivot in a[lo:hi+1] randomly\n",
    "    swap all elements of a[lo:hi+1] less than the pivot value to appear before the pivot\n",
    "    swap all elements of a[lo:hi+1] greater than the pivot value to appear after the pivot\n",
    "    \"\"\"\n",
    "    pi = randint(lo, hi+1) # pivot index\n",
    "    swap(a, pi, hi) # put pivot index in last position\n",
    "    pivot = a[hi]\n",
    "    i = lo # i is the pivot index for elements we have seen so far\n",
    "    for j in range(lo, hi+1):\n",
    "        if a[j] < pivot:\n",
    "            swap(a, i, j)\n",
    "            i = i+1 # increment pivot index\n",
    "    swap(a, i, hi) # put pivot in correct place\n",
    "    return i\n",
    "\n",
    "def quicksort(a, lo=0, hi=None):\n",
    "    \"\"\"\n",
    "    perform quicksort algorithm on array a\n",
    "    performs operations in-place\n",
    "    \"\"\"\n",
    "    if hi is None:\n",
    "        hi = len(a) - 1\n",
    "        \n",
    "    if lo < hi:\n",
    "        i = partition(a, lo, hi)\n",
    "        quicksort(a, lo, i-1) # recurse on lower half\n",
    "        quicksort(a, i+1, hi) # recurse on higher half\n",
    "        \n",
    "    return a\n",
    "\n",
    "quicksort([6,5,4,3,2,1,0])"
   ]
  },
  {
   "cell_type": "markdown",
   "metadata": {},
   "source": [
    "## Analysis of Recursive Algorithms\n",
    "\n",
    "Recursive algorithms are usually easy to implement, but they aren't always fast.  For example:"
   ]
  },
  {
   "cell_type": "code",
   "execution_count": 8,
   "metadata": {},
   "outputs": [
    {
     "name": "stdout",
     "output_type": "stream",
     "text": [
      "CPU times: user 3.1 s, sys: 482 µs, total: 3.1 s\n",
      "Wall time: 3.11 s\n"
     ]
    },
    {
     "data": {
      "text/plain": [
       "9227465"
      ]
     },
     "execution_count": 8,
     "metadata": {},
     "output_type": "execute_result"
    }
   ],
   "source": [
    "%time fibonacci(35)"
   ]
  },
  {
   "cell_type": "markdown",
   "metadata": {},
   "source": [
    "the recursive definition of `fibonacci` takes much longer to compute than is possible.\n",
    "\n",
    "On the other hand, `mergesort` has optimal asymptotic complexity for a sorting algorithm: $O(n\\log n)$\n",
    "\n",
    "if `quicksort` is very unlucky with choice of pivot, it can take $O(n^2)$ time, but its expected runtime is $O(n \\log n)$.  It also does all operations in-place, unlike `mergesort`, which uses auxillary memory."
   ]
  },
  {
   "cell_type": "markdown",
   "metadata": {},
   "source": [
    "## TODO\n",
    "\n",
    "master theorem"
   ]
  },
  {
   "cell_type": "code",
   "execution_count": null,
   "metadata": {},
   "outputs": [],
   "source": []
  }
 ],
 "metadata": {
  "kernelspec": {
   "display_name": "Python (pycourse)",
   "language": "python",
   "name": "pycourse"
  },
  "language_info": {
   "codemirror_mode": {
    "name": "ipython",
    "version": 3
   },
   "file_extension": ".py",
   "mimetype": "text/x-python",
   "name": "python",
   "nbconvert_exporter": "python",
   "pygments_lexer": "ipython3",
   "version": "3.8.3"
  }
 },
 "nbformat": 4,
 "nbformat_minor": 4
}
