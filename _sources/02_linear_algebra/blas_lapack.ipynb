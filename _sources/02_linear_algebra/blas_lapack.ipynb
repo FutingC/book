{
 "cells": [
  {
   "cell_type": "markdown",
   "metadata": {},
   "source": [
    "# BLAS and LAPACK\n",
    "\n",
    "We've seen a bit of dense linear algebra using numpy and scipy.  Now we're going to look under the hood.\n",
    "\n",
    "Regardless of what language you're using, chances are if you're doing numerical linear algebra, you are able to take advantage of libraries of code which implement most common linear algebra routines and factorizations.\n",
    "\n",
    "[Basic Linear Algebra Subprograms (BLAS)](https://www.netlib.org/blas/)\n",
    "\n",
    "[Linear Algebra PACKage (LAPACK)](https://www.netlib.org/lapack/)\n",
    "\n",
    "These libraries are wrapped by scipy, which exposes an interface.\n",
    "\n",
    "### Why should you care?\n",
    "\n",
    "First, you probably shouldn't be writing your own basic linear algebra routines.\n",
    "1.  It takes time to write them\n",
    "2. Even if you know what you're doing, there's a chance you have a bug\n",
    "3. Performance optimization is involved\n",
    "\n",
    "It is entirely possible to do linear algebra in Python without ever worrying about the libraries under the hood.  However, maybe you are prototyping an algorithm in Python, and then want to write optimized code in C/fortran.  In this case, it is good to be able to translate what you're doing into BLAS/LAPACK routines.\n",
    "\n"
   ]
  },
  {
   "cell_type": "markdown",
   "metadata": {},
   "source": [
    "## BLAS Routines\n",
    "\n",
    "[scipy BLAS interface](https://docs.scipy.org/doc/scipy/reference/linalg.blas.html)\n",
    "\n",
    "BLAS implements *basic* linear algebra routines like dot product, matrix-vector product, and matrix-matrix product as well as triangular solves."
   ]
  },
  {
   "cell_type": "code",
   "execution_count": 1,
   "metadata": {},
   "outputs": [
    {
     "name": "stdout",
     "output_type": "stream",
     "text": [
      "Populating the interactive namespace from numpy and matplotlib\n"
     ]
    }
   ],
   "source": [
    "%pylab inline\n",
    "from scipy.linalg import blas"
   ]
  },
  {
   "cell_type": "code",
   "execution_count": 2,
   "metadata": {},
   "outputs": [
    {
     "data": {
      "text/plain": [
       "0.0"
      ]
     },
     "execution_count": 2,
     "metadata": {},
     "output_type": "execute_result"
    }
   ],
   "source": [
    "n = 1000\n",
    "A = np.array(np.random.randn(n,n), order='F')\n",
    "B = np.array(np.random.randn(n,n), order='F')\n",
    "\n",
    "\n",
    "C_np = A @ B # numpy\n",
    "C_blas = blas.dgemm(1.0, A, B) # BLAS\n",
    "np.linalg.norm(C_np - C_blas)"
   ]
  },
  {
   "cell_type": "code",
   "execution_count": 3,
   "metadata": {},
   "outputs": [
    {
     "name": "stdout",
     "output_type": "stream",
     "text": [
      "16.9 ms ± 1 ms per loop (mean ± std. dev. of 7 runs, 100 loops each)\n"
     ]
    }
   ],
   "source": [
    "%timeit C_np = A @ B # numpy"
   ]
  },
  {
   "cell_type": "code",
   "execution_count": 4,
   "metadata": {},
   "outputs": [
    {
     "name": "stdout",
     "output_type": "stream",
     "text": [
      "19.2 ms ± 2.64 ms per loop (mean ± std. dev. of 7 runs, 10 loops each)\n"
     ]
    }
   ],
   "source": [
    "%timeit C_blas = blas.dgemm(1.0, A, B) # blas"
   ]
  },
  {
   "cell_type": "markdown",
   "metadata": {},
   "source": [
    "### BLAS Naming Conventions\n",
    "\n",
    "BLAS functions have short names (like `dgemm`) that look a little cryptic at first.  There is a pattern to the names though.  See [here](https://software.intel.com/content/www/us/en/develop/documentation/mkl-developer-reference-fortran/top/blas-and-sparse-blas-routines/blas-routines/naming-conventions-for-blas-routines.html) for reference.\n",
    "\n",
    "```\n",
    "blas.<character><name><mod>\n",
    "```\n",
    "\n",
    "The `<character>` field can be\n",
    "1. `s`: single precision float\n",
    "2. `d`: double precision float\n",
    "3. `c`: single precision complex float\n",
    "4. `z`: double precision complex float\n",
    "\n",
    "The `<name>` field indicate either the operation type, or matrix type.\n",
    "\n",
    "The `<mod>` field indicates additional details about the operation.\n",
    "\n",
    "For example, `dgemm = d + ge + mm` has `d` as the `<character>`, `ge` for `<name>` (general matrix), and `mm` for `<mod>` (matrix multiplication)."
   ]
  },
  {
   "cell_type": "markdown",
   "metadata": {},
   "source": [
    "### BLAS Levels\n",
    "\n",
    "BLAS is split up into 3 conceptual levels\n",
    "1. Level 1 - vector-vector operations\n",
    "2. Level 2 - matrix-vector operations\n",
    "3. Level 3 - matrix-matrix operations\n",
    "\n",
    "Level 3 operations are most efficient, since they can take the most advantage of memory performance optimizations."
   ]
  },
  {
   "cell_type": "markdown",
   "metadata": {},
   "source": [
    "#### BLAS Level 1\n",
    "\n",
    "Some vector-vector operations (insert the appropriate `<character>`)\n",
    "1. [`axpy`](https://docs.scipy.org/doc/scipy/reference/generated/scipy.linalg.blas.daxpy.html) ($a x + y$)\n",
    "2. [`dot`](https://docs.scipy.org/doc/scipy/reference/generated/scipy.linalg.blas.ddot.html) (dot product $x^H x$)\n",
    "3. [`nrm2`](https://docs.scipy.org/doc/scipy/reference/generated/scipy.linalg.blas.dnrm2.html) ($\\|x\\|_2$)"
   ]
  },
  {
   "cell_type": "code",
   "execution_count": 5,
   "metadata": {},
   "outputs": [
    {
     "data": {
      "text/plain": [
       "0.0"
      ]
     },
     "execution_count": 5,
     "metadata": {},
     "output_type": "execute_result"
    }
   ],
   "source": [
    "n = 1000\n",
    "x = np.random.rand(n)\n",
    "y = np.random.rand(n)\n",
    "\n",
    "z = blas.daxpy(x, y, a=1.0)\n",
    "xx = blas.ddot(x, x)\n",
    "x2 = blas.dnrm2(x)\n",
    "np.sqrt(xx) - x2"
   ]
  },
  {
   "cell_type": "markdown",
   "metadata": {},
   "source": [
    "#### BLAS Level 2\n",
    "\n",
    "Some matrix-vector operations (insert appropriate `<character>`)"
   ]
  },
  {
   "cell_type": "code",
   "execution_count": null,
   "metadata": {},
   "outputs": [],
   "source": []
  },
  {
   "cell_type": "markdown",
   "metadata": {},
   "source": [
    "#### BLAS Level 3\n",
    "\n",
    "Some matrix-matrix operations (insert appropriate `<character>`)"
   ]
  },
  {
   "cell_type": "code",
   "execution_count": null,
   "metadata": {},
   "outputs": [],
   "source": []
  },
  {
   "cell_type": "markdown",
   "metadata": {},
   "source": [
    "## LAPACK Routines\n",
    "\n",
    "[scipy LAPACK interface](https://docs.scipy.org/doc/scipy/reference/linalg.lapack.html)"
   ]
  },
  {
   "cell_type": "code",
   "execution_count": null,
   "metadata": {},
   "outputs": [],
   "source": []
  }
 ],
 "metadata": {
  "kernelspec": {
   "display_name": "Python (pycourse)",
   "language": "python",
   "name": "pycourse"
  },
  "language_info": {
   "codemirror_mode": {
    "name": "ipython",
    "version": 3
   },
   "file_extension": ".py",
   "mimetype": "text/x-python",
   "name": "python",
   "nbconvert_exporter": "python",
   "pygments_lexer": "ipython3",
   "version": "3.8.3"
  }
 },
 "nbformat": 4,
 "nbformat_minor": 2
}
