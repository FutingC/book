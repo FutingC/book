{
 "cells": [
  {
   "cell_type": "markdown",
   "metadata": {},
   "source": [
    "# Sparse Matrices"
   ]
  },
  {
   "cell_type": "code",
   "execution_count": 2,
   "metadata": {},
   "outputs": [
    {
     "name": "stdout",
     "output_type": "stream",
     "text": [
      "Populating the interactive namespace from numpy and matplotlib\n"
     ]
    }
   ],
   "source": [
    "%pylab inline\n",
    "import scipy as sp\n",
    "import scipy.sparse as sparse\n",
    "import scipy.sparse.linalg as sla"
   ]
  },
  {
   "cell_type": "markdown",
   "metadata": {},
   "source": [
    "A $m\\times n$ matrix is **sparse** if it has few non-zero entries in comparison to all $mn$ total entries.  Sparsity is a qualitative notion - it might mean we have $O(\\min\\{m,n\\})$ non-zero entries (for example, a diagonal matrix), it might also mean we have $O(mn)$ entries, but the constant is small (for example, $mn/100$).  A **dense** matrix is not sparse, meaning that most (or all) of the entries are non-zero.\n",
    "\n",
    "Recall the formula for matrix-vector multiplication: \n",
    "```{math}\n",
    ":label: matvec\n",
    "y_i = \\sum_j A_{i,j} x_j\n",
    "```\n",
    "\n",
    "When we multiply a vector (or matrix) by a sparse matrix, most of the coefficients are zero, and so we might expect that we can apply the matrix more quickly than we might apply a dense matrix.  We can re-write the matrix-vector multiplication formula as\n",
    "```{math}\n",
    ":label: sparse_matvec\n",
    "y_i = \\sum_{j\\in nz(i)} A_{i,j} x_j\n",
    "```\n",
    "\n",
    "Where $nz(i)$ denotes the column indices $j$ for which $A_{i,j}$ is non-zero.  We see the complexity of multiplying a sparse matrix is $O(nnz(A))$, where $nnz(A)$ is the number of non-zeros (note that when $A$ is dense, $nnz(A) = mn$)."
   ]
  },
  {
   "cell_type": "markdown",
   "metadata": {},
   "source": [
    "## Sparse Matrix Formats\n",
    "\n",
    "There are a variety of ways sparse matrices are stored in practice.  The utility of each format depends on whether there is any structure in the non-zeros, or what the matrix will be used for.\n",
    "\n",
    "Scipy provides several standard types of sparse matrices in `sicpy.sparse`.  See the [documentation](https://docs.scipy.org/doc/scipy/reference/sparse.html#sparse-matrix-classes).\n",
    "\n",
    "### COOrdinate Format\n",
    "\n",
    "Perhaps the easiest to describe is the COO (COOrdinate format), which just stores three lists `i,j,data`, where `i[k]` and  `j[k]` are the row and column indices for a non-zero entry with value `data[k]`.\n",
    "\n",
    "Scipy documentation is [here](https://docs.scipy.org/doc/scipy/reference/generated/scipy.sparse.coo_matrix.html#scipy.sparse.coo_matrix)"
   ]
  },
  {
   "cell_type": "code",
   "execution_count": 9,
   "metadata": {},
   "outputs": [
    {
     "data": {
      "text/plain": [
       "array([[1, 0, 0],\n",
       "       [0, 1, 0],\n",
       "       [0, 0, 1]])"
      ]
     },
     "execution_count": 9,
     "metadata": {},
     "output_type": "execute_result"
    }
   ],
   "source": [
    "row = [0,1,2]\n",
    "col = [0,1,2]\n",
    "data = [1,1,1]\n",
    "\n",
    "S = sparse.coo_matrix((data, (row,col)), shape=(3,3))\n",
    "S.toarray()"
   ]
  },
  {
   "cell_type": "markdown",
   "metadata": {},
   "source": [
    "### Compressed Sparse Row/Column Formats\n",
    "\n",
    "One of the disadvantages of COO Matrices are that entries need not be ordered in any way, which can lead to inefficiencies in memory access in matrix-vector or matrix-matrix multiplication.\n",
    "\n",
    "Commonly used formats which keeps entries in a sensible order (without additional structure assumed) are Compressed Sparse Row (CSR) and Compressed Sparse Column (CSC) matrices.  You might think of these as the sparse equivalents of row-major and column-major dense matrices.\n",
    "\n",
    "We'll describe CSC matrices - the transpose is a CSR matrix.\n",
    "\n",
    "If `S` is a CSC matrix with `m` rows, `n` columns, and `nnz` non-zeros, we specify `S` with three lists: `ptr` (length `n+1`), `row` (length `nnz`) and `val` (length `nnz`).  The non-zero row indices for column `j` are stored in `row[ptr[j]:ptr[j+1]]`, and the non-zero values for those rows are stored in `val[ptr[j]:ptr[j+1]]`.  If you're familiar with pointers in a language like C, `ptr` is an array of pointer offsets.\n",
    "\n",
    "Basically, the non-zero entries for each column are stored in contiguous blocks of memory.  This can make it much faster to apply CSC matrices.\n",
    "\n",
    "Scipy documentation is [here](https://docs.scipy.org/doc/scipy/reference/generated/scipy.sparse.csc_matrix.html#scipy.sparse.csc_matrix)"
   ]
  },
  {
   "cell_type": "code",
   "execution_count": 12,
   "metadata": {},
   "outputs": [
    {
     "data": {
      "text/plain": [
       "array([[1, 0, 0],\n",
       "       [0, 1, 0],\n",
       "       [0, 0, 1]])"
      ]
     },
     "execution_count": 12,
     "metadata": {},
     "output_type": "execute_result"
    }
   ],
   "source": [
    "ptr = [0,1,2,3]\n",
    "row = [0,1,2]\n",
    "val = [1,1,1]\n",
    "\n",
    "S = sparse.csc_matrix((val, row, ptr), shape=(3,3))\n",
    "S.toarray()"
   ]
  },
  {
   "cell_type": "markdown",
   "metadata": {},
   "source": [
    "### Other Sparse Matrix Types\n",
    "\n",
    "Other matrix types in `scipy.sparse` include:\n",
    "* [`dia_matrix`](https://docs.scipy.org/doc/scipy/reference/generated/scipy.sparse.dia_matrix.html#scipy.sparse.dia_matrix), which is good for diagonal/banded matrices\n",
    "* [`lil_matrix`](https://docs.scipy.org/doc/scipy/reference/generated/scipy.sparse.lil_matrix.html#scipy.sparse.lil_matrix), or a (row-based) list-of-lists matrix, which is good for mutating row operations\n",
    "* [`bsr_matrix`](https://docs.scipy.org/doc/scipy/reference/generated/scipy.sparse.bsr_matrix.html#scipy.sparse.bsr_matrix), or block sparse row, which is good for sparse matrices with dense blocks\n",
    "* [`dok_matrix`](https://docs.scipy.org/doc/scipy/reference/generated/scipy.sparse.dok_matrix.html#scipy.sparse.dok_matrix), or dictionary of keys, which is good for when you want to access and change individual entries quickly."
   ]
  },
  {
   "cell_type": "markdown",
   "metadata": {},
   "source": [
    "### Exercise\n",
    "\n",
    "In this exercise, you will implement a basic Dictionary of Keys matrix.\n",
    "\n",
    "The class should wrap a python dictionary, which takes tuples of ints as keys, and floats as values.  It should also store the shape of the matrix.\n",
    "\n",
    "for example, the data for a $3\\times 3$ identity matrix is"
   ]
  },
  {
   "cell_type": "code",
   "execution_count": 16,
   "metadata": {},
   "outputs": [],
   "source": [
    "data = {(0,0): 1.0, (1,1): 1.0, (2,2): 1.0}"
   ]
  },
  {
   "cell_type": "markdown",
   "metadata": {},
   "source": [
    "Implement the following methods:\n",
    "* [`__getitem__`](https://docs.python.org/3/reference/datamodel.html#object.__getitem__) for accessing an element\n",
    "* [`__setitem__`](https://docs.python.org/3/reference/datamodel.html#object.__setitem__) for setting a value (delete the key if the value is zero)\n",
    "* `nnz()` to return the total number of non-zeros\n",
    "* `matvec(x)` to apply the matrix to a vector, using equation {eq}`sparse_matvec`"
   ]
  },
  {
   "cell_type": "code",
   "execution_count": null,
   "metadata": {},
   "outputs": [],
   "source": [
    "# your code here\n"
   ]
  }
 ],
 "metadata": {
  "kernelspec": {
   "display_name": "Python (pycourse)",
   "language": "python",
   "name": "pycourse"
  },
  "language_info": {
   "codemirror_mode": {
    "name": "ipython",
    "version": 3
   },
   "file_extension": ".py",
   "mimetype": "text/x-python",
   "name": "python",
   "nbconvert_exporter": "python",
   "pygments_lexer": "ipython3",
   "version": "3.8.3"
  }
 },
 "nbformat": 4,
 "nbformat_minor": 4
}
