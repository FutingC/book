{
 "cells": [
  {
   "cell_type": "markdown",
   "metadata": {},
   "source": [
    "# Iterators and Generators\n",
    "\n",
    "So far, you have seen things like"
   ]
  },
  {
   "cell_type": "code",
   "execution_count": 1,
   "metadata": {},
   "outputs": [
    {
     "name": "stdout",
     "output_type": "stream",
     "text": [
      "1\n",
      "2\n",
      "3\n"
     ]
    }
   ],
   "source": [
    "a = [1,2,3]\n",
    "for x in a:\n",
    "    print(x)"
   ]
  },
  {
   "cell_type": "markdown",
   "metadata": {},
   "source": [
    "This looks very different from a C-style for loop where we loop over the variable index:\n",
    "```C++\n",
    "for (size_t i = 0; i < 3; i++) {\n",
    "    printf(\"%d\\n\", i);\n",
    "}\n",
    "```\n",
    "\n",
    "Or for instance, we can use something called a `range`"
   ]
  },
  {
   "cell_type": "code",
   "execution_count": 1,
   "metadata": {},
   "outputs": [
    {
     "name": "stdout",
     "output_type": "stream",
     "text": [
      "0\n",
      "1\n",
      "2\n"
     ]
    }
   ],
   "source": [
    "for i in range(3):\n",
    "    print(i)"
   ]
  },
  {
   "cell_type": "markdown",
   "metadata": {},
   "source": [
    "or other data types"
   ]
  },
  {
   "cell_type": "code",
   "execution_count": 2,
   "metadata": {},
   "outputs": [
    {
     "name": "stdout",
     "output_type": "stream",
     "text": [
      "hello  :  1\n",
      "goodbye  :  2\n"
     ]
    }
   ],
   "source": [
    "d = {\"hello\": 1, \"goodbye\": 2}\n",
    "for k,v in d.items():\n",
    "    print(k, ' : ', v)"
   ]
  },
  {
   "cell_type": "markdown",
   "metadata": {},
   "source": [
    "The key to using this sort of syntax is the concept of [iterator](https://wiki.python.org/moin/Iterator).  This is common in object-oriented programming (not just in Python), but you probably haven't seen iterators before if you've only used imperative languages.\n",
    "\n",
    "An object is **iterable** if it implements the `__iter__` method, which is expected to return an iterator object.\n",
    "An object is an **iterator** if it implements the `__next__` method, which either\n",
    "1. returns the next element of the iterable object\n",
    "2. raises the `StopIteration` exception if there are no more elements to iterate over"
   ]
  },
  {
   "cell_type": "markdown",
   "metadata": {},
   "source": [
    "## A Basic Iterator\n",
    "\n",
    "What if we want to replicate `range`?  "
   ]
  },
  {
   "cell_type": "code",
   "execution_count": 3,
   "metadata": {},
   "outputs": [
    {
     "data": {
      "text/plain": [
       "range"
      ]
     },
     "execution_count": 3,
     "metadata": {},
     "output_type": "execute_result"
    }
   ],
   "source": [
    "r = range(3)\n",
    "type(r)"
   ]
  },
  {
   "cell_type": "markdown",
   "metadata": {},
   "source": [
    "we can produce an iterator using the `iter` function"
   ]
  },
  {
   "cell_type": "code",
   "execution_count": 4,
   "metadata": {},
   "outputs": [
    {
     "data": {
      "text/plain": [
       "range_iterator"
      ]
     },
     "execution_count": 4,
     "metadata": {},
     "output_type": "execute_result"
    }
   ],
   "source": [
    "ri = iter(r)\n",
    "type(ri)"
   ]
  },
  {
   "cell_type": "markdown",
   "metadata": {},
   "source": [
    "we can explicitly run through the iterator using the `next` function"
   ]
  },
  {
   "cell_type": "code",
   "execution_count": 5,
   "metadata": {},
   "outputs": [
    {
     "data": {
      "text/plain": [
       "0"
      ]
     },
     "execution_count": 5,
     "metadata": {},
     "output_type": "execute_result"
    }
   ],
   "source": [
    "next(ri)"
   ]
  },
  {
   "cell_type": "code",
   "execution_count": 6,
   "metadata": {},
   "outputs": [],
   "source": [
    "class my_range_iterator(object):\n",
    "    def __init__(self, start, stop, stride):\n",
    "        self.state = start\n",
    "        self.stop = stop\n",
    "        self.stride = stride\n",
    "        \n",
    "    def __next__(self):\n",
    "        if self.state >= self.stop:\n",
    "            raise StopIteration  # signals \"the end\"\n",
    "        ret = self.state # we'll return current state\n",
    "        self.state += self.stride # increment state\n",
    "        return ret\n",
    "        \n",
    "        \n",
    "# an iterable\n",
    "class my_range(object):\n",
    "    def __init__(self, start, stop, stride=1):\n",
    "        self.start = start\n",
    "        self.stop = stop\n",
    "        self.stride = stride\n",
    "    \n",
    "    def __iter__(self):\n",
    "        return my_range_iterator(self.start, self.stop, self.stride)"
   ]
  },
  {
   "cell_type": "code",
   "execution_count": 7,
   "metadata": {},
   "outputs": [
    {
     "data": {
      "text/plain": [
       "__main__.my_range"
      ]
     },
     "execution_count": 7,
     "metadata": {},
     "output_type": "execute_result"
    }
   ],
   "source": [
    "r = my_range(0,3)\n",
    "type(r)"
   ]
  },
  {
   "cell_type": "code",
   "execution_count": 8,
   "metadata": {},
   "outputs": [
    {
     "data": {
      "text/plain": [
       "__main__.my_range_iterator"
      ]
     },
     "execution_count": 8,
     "metadata": {},
     "output_type": "execute_result"
    }
   ],
   "source": [
    "ri = iter(r)\n",
    "type(ri)"
   ]
  },
  {
   "cell_type": "code",
   "execution_count": 9,
   "metadata": {},
   "outputs": [
    {
     "data": {
      "text/plain": [
       "0"
      ]
     },
     "execution_count": 9,
     "metadata": {},
     "output_type": "execute_result"
    }
   ],
   "source": [
    "next(ri)"
   ]
  },
  {
   "cell_type": "code",
   "execution_count": 10,
   "metadata": {},
   "outputs": [
    {
     "name": "stdout",
     "output_type": "stream",
     "text": [
      "0\n",
      "1\n",
      "2\n"
     ]
    }
   ],
   "source": [
    "for i in my_range(0,3):\n",
    "    print(i)"
   ]
  },
  {
   "cell_type": "markdown",
   "metadata": {},
   "source": [
    "You can also create classes that are both iterators and iterables"
   ]
  },
  {
   "cell_type": "code",
   "execution_count": 11,
   "metadata": {},
   "outputs": [],
   "source": [
    "# an iterable and iterator\n",
    "class my_range2(object):\n",
    "    def __init__(self, start, stop, stride=1):\n",
    "        self.start = start\n",
    "        self.stop = stop\n",
    "        self.stride = stride\n",
    "        self.state = start\n",
    "    \n",
    "    def __iter__(self):\n",
    "        return self\n",
    "    \n",
    "    def __next__(self):\n",
    "        if self.state >= self.stop:\n",
    "            raise StopIteration  # signals \"the end\"\n",
    "        ret = self.state # we'll return current state\n",
    "        self.state += self.stride # increment state\n",
    "        return ret"
   ]
  },
  {
   "cell_type": "code",
   "execution_count": 12,
   "metadata": {},
   "outputs": [
    {
     "name": "stdout",
     "output_type": "stream",
     "text": [
      "0\n",
      "1\n",
      "2\n"
     ]
    }
   ],
   "source": [
    "for i in my_range2(0,3):\n",
    "    print(i)"
   ]
  },
  {
   "cell_type": "markdown",
   "metadata": {},
   "source": [
    "## Using Iterators for Computation\n",
    "\n",
    "Let's now use iterators for something more interesting - computing the Fibonacci numbers."
   ]
  },
  {
   "cell_type": "code",
   "execution_count": 13,
   "metadata": {},
   "outputs": [],
   "source": [
    "class FibonacciIterator(object):\n",
    "    def __init__(self):\n",
    "        self.a = 0 # current number\n",
    "        self.b = 1 # next number\n",
    "        \n",
    "    def __iter__(self):\n",
    "        return self\n",
    "    \n",
    "    def __next__(self):\n",
    "        ret = self.a\n",
    "        self.a, self.b = self.b, self.a + self.b # advance the iteration\n",
    "        return ret"
   ]
  },
  {
   "cell_type": "code",
   "execution_count": 14,
   "metadata": {},
   "outputs": [
    {
     "name": "stdout",
     "output_type": "stream",
     "text": [
      "0\n",
      "1\n",
      "1\n",
      "2\n",
      "3\n",
      "5\n",
      "8\n",
      "13\n",
      "21\n",
      "34\n",
      "55\n",
      "89\n",
      "144\n",
      "233\n",
      "377\n",
      "610\n",
      "987\n"
     ]
    }
   ],
   "source": [
    "for i in FibonacciIterator():\n",
    "    if i > 1000:\n",
    "        break\n",
    "    print(i)"
   ]
  },
  {
   "cell_type": "markdown",
   "metadata": {},
   "source": [
    "Note that we never raise a `StopIteration` exception - the iterator will just keep going if we let it."
   ]
  },
  {
   "cell_type": "markdown",
   "metadata": {},
   "source": [
    "### Exercises"
   ]
  },
  {
   "cell_type": "code",
   "execution_count": null,
   "metadata": {},
   "outputs": [],
   "source": []
  },
  {
   "cell_type": "markdown",
   "metadata": {},
   "source": [
    "## Generators\n",
    "\n",
    "Often, a more elegant way to define an iterator is using a [generator](https://wiki.python.org/moin/Generators)\n",
    "\n",
    "This is a special kind of iterator defined using a function instead of using classes that implement the `__iter__` and `__next__` methods.\n",
    "\n",
    "See [this post](https://nvie.com/posts/iterators-vs-generators/) for more discussion."
   ]
  },
  {
   "cell_type": "code",
   "execution_count": 15,
   "metadata": {},
   "outputs": [],
   "source": [
    "def my_range3(state, stop, stride=1):\n",
    "    while state < stop:\n",
    "        yield state\n",
    "        state += stride\n",
    "        "
   ]
  },
  {
   "cell_type": "markdown",
   "metadata": {},
   "source": [
    "Note that we use the `def` keyword instead of the `class` keyword for our declaration.  The `yield` keyword returns subsequent values of the iteration."
   ]
  },
  {
   "cell_type": "code",
   "execution_count": 16,
   "metadata": {},
   "outputs": [
    {
     "data": {
      "text/plain": [
       "generator"
      ]
     },
     "execution_count": 16,
     "metadata": {},
     "output_type": "execute_result"
    }
   ],
   "source": [
    "r = my_range3(0,3)\n",
    "type(r)"
   ]
  },
  {
   "cell_type": "code",
   "execution_count": 17,
   "metadata": {},
   "outputs": [
    {
     "data": {
      "text/plain": [
       "generator"
      ]
     },
     "execution_count": 17,
     "metadata": {},
     "output_type": "execute_result"
    }
   ],
   "source": [
    "ri = iter(r)\n",
    "type(ri)"
   ]
  },
  {
   "cell_type": "code",
   "execution_count": 18,
   "metadata": {},
   "outputs": [
    {
     "data": {
      "text/plain": [
       "0"
      ]
     },
     "execution_count": 18,
     "metadata": {},
     "output_type": "execute_result"
    }
   ],
   "source": [
    "next(ri)"
   ]
  },
  {
   "cell_type": "code",
   "execution_count": 19,
   "metadata": {},
   "outputs": [
    {
     "name": "stdout",
     "output_type": "stream",
     "text": [
      "0\n",
      "1\n",
      "2\n"
     ]
    }
   ],
   "source": [
    "for i in my_range3(0,3):\n",
    "    print(i)"
   ]
  },
  {
   "cell_type": "markdown",
   "metadata": {},
   "source": [
    "Our Fibonacci example re-written using a generator:"
   ]
  },
  {
   "cell_type": "code",
   "execution_count": 20,
   "metadata": {},
   "outputs": [],
   "source": [
    "def FibonacciGenerator():\n",
    "    a = 0\n",
    "    b = 1\n",
    "    while True:\n",
    "        yield a\n",
    "        a, b = b, a + b"
   ]
  },
  {
   "cell_type": "code",
   "execution_count": 21,
   "metadata": {},
   "outputs": [
    {
     "name": "stdout",
     "output_type": "stream",
     "text": [
      "0\n",
      "1\n",
      "1\n",
      "2\n",
      "3\n",
      "5\n",
      "8\n",
      "13\n",
      "21\n",
      "34\n",
      "55\n",
      "89\n",
      "144\n",
      "233\n",
      "377\n",
      "610\n",
      "987\n"
     ]
    }
   ],
   "source": [
    "for i in FibonacciGenerator():\n",
    "    if i > 1000:\n",
    "        break\n",
    "    print(i)\n"
   ]
  },
  {
   "cell_type": "markdown",
   "metadata": {},
   "source": [
    "### Exercises"
   ]
  },
  {
   "cell_type": "code",
   "execution_count": null,
   "metadata": {},
   "outputs": [],
   "source": []
  },
  {
   "cell_type": "markdown",
   "metadata": {},
   "source": [
    "## zip and reverse"
   ]
  },
  {
   "cell_type": "code",
   "execution_count": 22,
   "metadata": {},
   "outputs": [
    {
     "name": "stdout",
     "output_type": "stream",
     "text": [
      "0 a\n",
      "1 b\n",
      "2 c\n"
     ]
    }
   ],
   "source": [
    "for i, a in zip([0,1,2], ['a', 'b', 'c']):\n",
    "    print(i,a)"
   ]
  },
  {
   "cell_type": "code",
   "execution_count": 23,
   "metadata": {},
   "outputs": [
    {
     "name": "stdout",
     "output_type": "stream",
     "text": [
      "2\n",
      "1\n",
      "0\n"
     ]
    }
   ],
   "source": [
    "for i in reversed(range(3)):\n",
    "    print(i)"
   ]
  },
  {
   "cell_type": "markdown",
   "metadata": {},
   "source": [
    "## The Itertools Package\n",
    "\n",
    "A useful package for dealing with iterators is the [itertools package](https://docs.python.org/3.8/library/itertools.html)"
   ]
  },
  {
   "cell_type": "code",
   "execution_count": null,
   "metadata": {},
   "outputs": [],
   "source": []
  },
  {
   "cell_type": "code",
   "execution_count": null,
   "metadata": {},
   "outputs": [],
   "source": []
  },
  {
   "cell_type": "code",
   "execution_count": null,
   "metadata": {},
   "outputs": [],
   "source": []
  },
  {
   "cell_type": "markdown",
   "metadata": {},
   "source": [
    "## Iterators for Scientific Computing\n",
    "\n",
    "One way to use iterators for scientific computing\n",
    "\n",
    "Iterator for power method"
   ]
  },
  {
   "cell_type": "code",
   "execution_count": 24,
   "metadata": {},
   "outputs": [],
   "source": [
    "import numpy as np\n",
    "\n",
    "def PowerMethodIterator(A, x):\n",
    "    \n",
    "    def RayleighQuotient(A, x):\n",
    "        return np.dot(x, A @ x) / np.dot(x,x)\n",
    "    \n",
    "    x = x / np.linalg.norm(x)\n",
    "    rq_prev = np.inf\n",
    "    rq = RayleighQuotient(A, x)\n",
    "    \n",
    "    while True:\n",
    "        # yield state: RayleighQuotient, x, and difference from previous iteration\n",
    "        yield rq, x, np.abs(rq - rq_prev)\n",
    "        \n",
    "        # compute next iteration\n",
    "        x = A @ x\n",
    "        x = x / np.linalg.norm(x)\n",
    "        rq_prev = rq\n",
    "        rq = RayleighQuotient(A, x)\n",
    "    "
   ]
  },
  {
   "cell_type": "code",
   "execution_count": 25,
   "metadata": {},
   "outputs": [
    {
     "name": "stdout",
     "output_type": "stream",
     "text": [
      "84.78647511789411 inf\n",
      "235.14230845970027 150.35583334180615\n",
      "299.0901581710425 63.94784971134223\n",
      "327.42632196144444 28.33616379040194\n",
      "339.5066815684834 12.080359607038929\n",
      "345.45802773278973 5.951346164306358\n",
      "348.9275032625951 3.469475529805379\n",
      "351.2607348995293 2.333231636934215\n",
      "353.0377966940488 1.7770617945194545\n",
      "354.5453002142895 1.507503520240732\n",
      "355.93568840597504 1.3903881916855312\n",
      "357.29133268470406 1.3556442787290166\n",
      "358.6546293329733 1.3632966482692268\n",
      "360.0436641675765 1.3890348346031942\n",
      "361.4610192312393 1.4173550636627965\n",
      "362.8991655027012 1.4381462714619033\n",
      "364.3441405924098 1.4449750897086346\n",
      "365.77834450515587 1.4342039127460566\n",
      "367.1828184923569 1.4044739872010155\n",
      "368.5391202293479 1.3563017369909858\n",
      "369.8307914876373 1.2916712582894547\n",
      "371.0443849619949 1.2135934743575945\n",
      "372.1700390305733 1.125654068578399\n",
      "373.2016326343672 1.0315936037938513\n",
      "374.13659387375276 0.9349612393855864\n",
      "374.9754615052754 0.8388676315226462\n",
      "375.72130410324775 0.7458425979723415\n",
      "376.37909031011674 0.657786206868991\n",
      "376.95508202817325 0.575991718056514\n",
      "377.45629759603696 0.50121556786371\n",
      "377.89006921583467 0.4337716197977102\n",
      "378.2637010487783 0.3736318329436017\n",
      "378.584222305304 0.32052125652575114\n",
      "378.8582227866938 0.27400048138974853\n",
      "379.09175550562185 0.2335327189280747\n",
      "379.29029091536813 0.19853540974628459\n",
      "379.45870877350217 0.16841785813403476\n",
      "379.6013159023555 0.14260712885334215\n",
      "379.72188051926264 0.1205646169071315\n",
      "379.8236760640168 0.10179554475416808\n",
      "379.9095293889853 0.08585332496846831\n",
      "379.98186974851444 0.07234035952916429\n",
      "380.042776241701 0.0609064931865646\n",
      "380.0940222705332 0.05124602883216767\n",
      "380.13711622899433 0.04309395846115649\n",
      "380.1733380925988 0.03622186360445312\n",
      "380.20377188043307 0.03043378783428352\n",
      "380.22933415328794 0.025562272854870116\n",
      "380.25079882369266 0.02146467040472544\n",
      "380.26881861093034 0.01801978723767661\n",
      "380.28394349451264 0.015124883582302573\n",
      "380.29663651621416 0.012693021701522866\n",
      "380.3072872629178 0.010650746703618097\n",
      "380.3162233366095 0.00893607369170013\n",
      "380.32372008821267 0.007496751603184748\n",
      "380.33000886139644 0.006288773183769081\n",
      "380.3352839627774 0.005275101380959768\n",
      "380.3397085471057 0.00442458432831927\n",
      "380.3434195806071 0.0037110335013608164\n",
      "380.34653202286296 0.003112442255883252\n",
      "380.3491423474566 0.002610324593661062\n",
      "380.3513315039662 0.0021891565095870646\n",
      "380.3531674085717 0.0018359046055138606\n",
      "380.3547070373266 0.0015396287548696819\n",
      "380.3559981848046 0.0012911474780139542\n",
      "380.35708094113966 0.0010827563350517266\n",
      "380.35798893221994 0.0009079910802824998\n",
      "380.3587503607815 0.0007614285615886729\n",
      "380.3593888802044 0.0006385194228641922\n",
      "380.3599243277783 0.0005354475738954534\n",
      "380.36037333996313 0.0004490121848448325\n",
      "380.36074986857705 0.00037652861391279657\n",
      "380.3610656138285 0.00031574525144151266\n",
      "380.3613303875598 0.00026477373131683635\n",
      "380.36155241793244 0.0002220303726403472\n",
      "380.36173860498053 0.0001861870480865946\n",
      "380.36189473494574 0.00015612996520530942\n",
      "380.36202566003664 0.00013092509090029125\n",
      "380.3621354491847 0.00010978914804127271\n",
      "380.3622275144744 9.206528972072192e-05\n"
     ]
    }
   ],
   "source": [
    "n = 100\n",
    "A = np.random.randn(n, n)\n",
    "A = A @ A.T\n",
    "x0 = np.random.randn(n)\n",
    "\n",
    "solver = PowerMethodIterator(A, x0)\n",
    "tol = 1e-4\n",
    "\n",
    "while True:\n",
    "    rq, x, eps = next(solver)\n",
    "    print(rq, eps)\n",
    "    if eps < tol:\n",
    "        break"
   ]
  },
  {
   "cell_type": "markdown",
   "metadata": {},
   "source": [
    "If we decide that we're not satisfied with convergence yet, we can resume where we left off"
   ]
  },
  {
   "cell_type": "code",
   "execution_count": 26,
   "metadata": {},
   "outputs": [
    {
     "name": "stdout",
     "output_type": "stream",
     "text": [
      "380.36230471717 7.720269559285953e-05\n",
      "380.362369456631 6.473946098140004e-05\n",
      "380.3624237448757 5.4288244712097367e-05\n",
      "380.3624692691103 4.55242346220075e-05\n",
      "380.36250744416355 3.817505324832382e-05\n",
      "380.36253945645876 3.201229520755078e-05\n",
      "380.3625663008861 2.6844427338801324e-05\n",
      "380.36258881172347 2.251083736837245e-05\n",
      "380.3626076885651 1.8876841636483732e-05\n",
      "380.36262351806477 1.58294996595032e-05\n",
      "380.36263679216904 1.3274104276206344e-05\n",
      "380.3626479234059 1.1131236874462047e-05\n",
      "380.3626572577068 9.33430089844478e-06\n",
      "380.3626650851574 7.827450588138163e-06\n",
      "380.36267164901295 6.563855549757136e-06\n",
      "380.36267715325937 5.504246416876413e-06\n",
      "380.36268176895163 4.6156922621776175e-06\n",
      "380.36268563953087 3.870579234899196e-06\n",
      "380.36268888528207 3.2457512020300783e-06\n",
      "380.36269160707207 2.7217899969400605e-06\n",
      "380.36269388948443 2.2824123675491137e-06\n",
      "380.3626958034482 1.9139637856824265e-06\n",
      "380.3626974084423 1.604994054105191e-06\n",
      "380.3626987543438 1.3459015235639527e-06\n",
      "380.3626998829779 1.1286340964034025e-06\n",
      "380.3627008294181 9.464401955483481e-07\n"
     ]
    }
   ],
   "source": [
    "tol = 1e-6\n",
    "\n",
    "while True:\n",
    "    rq, x, eps = next(solver)\n",
    "    print(rq, eps)\n",
    "    if eps < tol:\n",
    "        break"
   ]
  },
  {
   "cell_type": "markdown",
   "metadata": {},
   "source": [
    "Implement a class which contains the state of an optimization problem.  Make this class an iterator.\n",
    "\n",
    "Use this for introspection of the solver."
   ]
  },
  {
   "cell_type": "code",
   "execution_count": null,
   "metadata": {},
   "outputs": [],
   "source": []
  },
  {
   "cell_type": "markdown",
   "metadata": {},
   "source": [
    "### Exercises\n",
    "\n",
    "Implement the game of life using an Iterator or Generator"
   ]
  },
  {
   "cell_type": "code",
   "execution_count": null,
   "metadata": {},
   "outputs": [],
   "source": []
  }
 ],
 "metadata": {
  "kernelspec": {
   "display_name": "Python (pycourse)",
   "language": "python",
   "name": "pycourse"
  },
  "language_info": {
   "codemirror_mode": {
    "name": "ipython",
    "version": 3
   },
   "file_extension": ".py",
   "mimetype": "text/x-python",
   "name": "python",
   "nbconvert_exporter": "python",
   "pygments_lexer": "ipython3",
   "version": "3.8.3"
  }
 },
 "nbformat": 4,
 "nbformat_minor": 2
}
