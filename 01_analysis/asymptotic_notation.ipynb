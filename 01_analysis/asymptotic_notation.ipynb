{
 "cells": [
  {
   "cell_type": "markdown",
   "metadata": {},
   "source": [
    "# Asymptotic Notation\n",
    "\n",
    "First, let's review some asymptotic notation.  We'll see it a fair amount in this course.\n",
    "\n",
    "Let $f(x), g(x)$ be some functions.  We say\n",
    "$$f = O(g)$$\n",
    "as $x\\to \\infty$ if there exists some constant $c\\ge 0$ and $x_0\\ge 0$ so that $ |f(x)| \\le c g(x) )$ for all $x \\ge x_0$.\n",
    "\n",
    "We say\n",
    "$$f = \\Omega(g)$$\n",
    "as $x\\to \\infty$ if there exists some constant $c\\ge 0$ and $x_0\\ge 0$ so that $ |f(x)| \\ge c g(x) )$ for all $x \\ge x_0$.\n",
    "\n",
    "Finally,\n",
    "$$f = \\Theta(g)$$\n",
    "if $f = O(g)$ and $f = \\Omega(g)$ (some constant multiples of $g$ bound $f$ above and below).\n",
    "\n",
    "Often we're interested in bounding worst-case behavior.  This means you'll see a lot of $O()$, and less of $\\Omega$ and $\\Theta$.\n",
    "\n",
    "Note that because we can scale by constant multiples, we typically drop them.\n",
    "1. $O(5x) = O(x)$\n",
    "2. $O(c) = O(1)$\n",
    "3. $O(c f(x)) = O(f(x))$\n",
    "\n",
    "## Examples\n",
    "\n",
    "1. $x = O(x)$\n",
    "2. $x = O(x^2)$\n",
    "3. $x^a = O(x^b)$ for $a \\le b$\n",
    "4. $x^a = O(b^x)$ for any $a, b > 0$\n",
    "5. $f = O(g)$ and $g = O(h)$ implies $f = O(h)$ (exercise: prove this)\n",
    "6. $f = O(g)$ and $h = O(k)$ implies $f\\times h = O(g \\times k)$ (exercise: prove this as well)\n"
   ]
  },
  {
   "cell_type": "markdown",
   "metadata": {},
   "source": [
    "## Complexity\n",
    "\n",
    "When we talk about [computational complexity](https://en.wikipedia.org/wiki/Computational_complexity), we are typically talking about the time or memory resources needed for an algorithm. \n",
    "\n",
    "For example, if an algorithm operates on an array of $n$ elements, we say the algorithm runs in $O(n^2)$ time if the run time scales (at worst) quadratically with the size $n$.\n",
    "\n",
    "For example, consider the following function:"
   ]
  },
  {
   "cell_type": "code",
   "execution_count": 5,
   "metadata": {},
   "outputs": [
    {
     "data": {
      "text/plain": [
       "3"
      ]
     },
     "execution_count": 5,
     "metadata": {},
     "output_type": "execute_result"
    }
   ],
   "source": [
    "import numpy as np\n",
    "\n",
    "def maximum(x):\n",
    "    \"\"\"\n",
    "    returns the maximum value in an array x\n",
    "    \"\"\"\n",
    "    xmax = -np.infty\n",
    "    for xi in x:\n",
    "        if xi > xmax:\n",
    "            xmax = xi\n",
    "            \n",
    "    return xmax\n",
    "\n",
    "maximum([1,2,3])"
   ]
  },
  {
   "cell_type": "markdown",
   "metadata": {},
   "source": [
    "our `maximum` function loops over the list once, and at each step of the iteration we do a constant amount of work. If `maximum` takes in an array of length `n` as input, this means there are `n` iterations of the for-loop, so `maximum` takes $O(n)$ time to compute.  Note that we don't need to create any additional arrays, so we can also say `maximum` uses $O(1)$ (constant) extra space."
   ]
  },
  {
   "cell_type": "code",
   "execution_count": 18,
   "metadata": {},
   "outputs": [
    {
     "data": {
      "image/png": "[encoded data removed]",
      "text/plain": [
       "<Figure size 432x288 with 1 Axes>"
      ]
     },
     "metadata": {
      "needs_background": "light"
     },
     "output_type": "display_data"
    }
   ],
   "source": [
    "import matplotlib.pyplot as plt\n",
    "from time import time\n",
    "\n",
    "ns = [10**k for k in range(1,5)]\n",
    "ts = []\n",
    "for n in ns:\n",
    "    a = np.random.rand(n)\n",
    "    start = time()\n",
    "    amax = maximum(a)\n",
    "    end = time()\n",
    "    ts.append(end - start)\n",
    "    \n",
    "plt.loglog(ns, ts)\n",
    "plt.xlabel('n')\n",
    "plt.ylabel('time (sec.)')\n",
    "plt.title('time to compute maximum')\n",
    "plt.show()"
   ]
  },
  {
   "cell_type": "markdown",
   "metadata": {},
   "source": [
    "When pl"
   ]
  }
 ],
 "metadata": {
  "kernelspec": {
   "display_name": "Python (pycourse)",
   "language": "python",
   "name": "pycourse"
  },
  "language_info": {
   "codemirror_mode": {
    "name": "ipython",
    "version": 3
   },
   "file_extension": ".py",
   "mimetype": "text/x-python",
   "name": "python",
   "nbconvert_exporter": "python",
   "pygments_lexer": "ipython3",
   "version": "3.8.3"
  }
 },
 "nbformat": 4,
 "nbformat_minor": 4
}
